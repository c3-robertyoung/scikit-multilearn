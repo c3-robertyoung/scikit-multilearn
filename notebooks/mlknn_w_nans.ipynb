{
 "cells": [
  {
   "cell_type": "code",
   "execution_count": 1,
   "id": "db0a9196-e11b-463a-8fe9-1ee6d93c4219",
   "metadata": {},
   "outputs": [],
   "source": [
    "from skmultilearn.adapt import MLkNN\n",
    "import numpy as np"
   ]
  },
  {
   "cell_type": "code",
   "execution_count": 2,
   "id": "cc5484cd-207d-4494-841b-0e32794d14c8",
   "metadata": {},
   "outputs": [],
   "source": [
    "num_samples = 10\n",
    "num_labels = 5\n",
    "X = np.random.rand(num_samples, 10)\n",
    "y = np.random.choice([True, False], size=(num_samples, num_labels)).astype(float) # convert to float to support nans"
   ]
  },
  {
   "cell_type": "code",
   "execution_count": 3,
   "id": "7c60ef69-a8aa-4f4e-bbaa-c320960451f2",
   "metadata": {},
   "outputs": [
    {
     "data": {
      "text/plain": [
       "(array([3, 3, 5]), array([4, 4, 3]))"
      ]
     },
     "execution_count": 3,
     "metadata": {},
     "output_type": "execute_result"
    }
   ],
   "source": [
    "nan_r = np.random.choice(range(num_samples), size=3)\n",
    "nan_c = np.random.choice(range(num_labels), size=3)\n",
    "nan_r, nan_c"
   ]
  },
  {
   "cell_type": "code",
   "execution_count": 4,
   "id": "9d358bd0-237c-406c-98a8-40a7fcdf5f25",
   "metadata": {},
   "outputs": [
    {
     "data": {
      "text/plain": [
       "array([[ 1.,  1.,  1.,  1.,  1.],\n",
       "       [ 1.,  0.,  0.,  0.,  0.],\n",
       "       [ 1.,  1.,  0.,  0.,  1.],\n",
       "       [ 1.,  0.,  1.,  0., nan],\n",
       "       [ 1.,  0.,  0.,  1.,  0.],\n",
       "       [ 0.,  0.,  1., nan,  1.],\n",
       "       [ 1.,  1.,  0.,  1.,  0.],\n",
       "       [ 0.,  0.,  0.,  1.,  1.],\n",
       "       [ 0.,  1.,  0.,  1.,  1.],\n",
       "       [ 1.,  1.,  0.,  1.,  1.]])"
      ]
     },
     "execution_count": 4,
     "metadata": {},
     "output_type": "execute_result"
    }
   ],
   "source": [
    "for idx in zip(nan_r, nan_c):\n",
    "    y[idx] = np.nan\n",
    "y"
   ]
  },
  {
   "cell_type": "code",
   "execution_count": 5,
   "id": "a26c452e-543a-4f01-817f-59be7b20ce64",
   "metadata": {},
   "outputs": [
    {
     "data": {
      "text/html": [
       "<style>#sk-container-id-1 {color: black;}#sk-container-id-1 pre{padding: 0;}#sk-container-id-1 div.sk-toggleable {background-color: white;}#sk-container-id-1 label.sk-toggleable__label {cursor: pointer;display: block;width: 100%;margin-bottom: 0;padding: 0.3em;box-sizing: border-box;text-align: center;}#sk-container-id-1 label.sk-toggleable__label-arrow:before {content: \"▸\";float: left;margin-right: 0.25em;color: #696969;}#sk-container-id-1 label.sk-toggleable__label-arrow:hover:before {color: black;}#sk-container-id-1 div.sk-estimator:hover label.sk-toggleable__label-arrow:before {color: black;}#sk-container-id-1 div.sk-toggleable__content {max-height: 0;max-width: 0;overflow: hidden;text-align: left;background-color: #f0f8ff;}#sk-container-id-1 div.sk-toggleable__content pre {margin: 0.2em;color: black;border-radius: 0.25em;background-color: #f0f8ff;}#sk-container-id-1 input.sk-toggleable__control:checked~div.sk-toggleable__content {max-height: 200px;max-width: 100%;overflow: auto;}#sk-container-id-1 input.sk-toggleable__control:checked~label.sk-toggleable__label-arrow:before {content: \"▾\";}#sk-container-id-1 div.sk-estimator input.sk-toggleable__control:checked~label.sk-toggleable__label {background-color: #d4ebff;}#sk-container-id-1 div.sk-label input.sk-toggleable__control:checked~label.sk-toggleable__label {background-color: #d4ebff;}#sk-container-id-1 input.sk-hidden--visually {border: 0;clip: rect(1px 1px 1px 1px);clip: rect(1px, 1px, 1px, 1px);height: 1px;margin: -1px;overflow: hidden;padding: 0;position: absolute;width: 1px;}#sk-container-id-1 div.sk-estimator {font-family: monospace;background-color: #f0f8ff;border: 1px dotted black;border-radius: 0.25em;box-sizing: border-box;margin-bottom: 0.5em;}#sk-container-id-1 div.sk-estimator:hover {background-color: #d4ebff;}#sk-container-id-1 div.sk-parallel-item::after {content: \"\";width: 100%;border-bottom: 1px solid gray;flex-grow: 1;}#sk-container-id-1 div.sk-label:hover label.sk-toggleable__label {background-color: #d4ebff;}#sk-container-id-1 div.sk-serial::before {content: \"\";position: absolute;border-left: 1px solid gray;box-sizing: border-box;top: 0;bottom: 0;left: 50%;z-index: 0;}#sk-container-id-1 div.sk-serial {display: flex;flex-direction: column;align-items: center;background-color: white;padding-right: 0.2em;padding-left: 0.2em;position: relative;}#sk-container-id-1 div.sk-item {position: relative;z-index: 1;}#sk-container-id-1 div.sk-parallel {display: flex;align-items: stretch;justify-content: center;background-color: white;position: relative;}#sk-container-id-1 div.sk-item::before, #sk-container-id-1 div.sk-parallel-item::before {content: \"\";position: absolute;border-left: 1px solid gray;box-sizing: border-box;top: 0;bottom: 0;left: 50%;z-index: -1;}#sk-container-id-1 div.sk-parallel-item {display: flex;flex-direction: column;z-index: 1;position: relative;background-color: white;}#sk-container-id-1 div.sk-parallel-item:first-child::after {align-self: flex-end;width: 50%;}#sk-container-id-1 div.sk-parallel-item:last-child::after {align-self: flex-start;width: 50%;}#sk-container-id-1 div.sk-parallel-item:only-child::after {width: 0;}#sk-container-id-1 div.sk-dashed-wrapped {border: 1px dashed gray;margin: 0 0.4em 0.5em 0.4em;box-sizing: border-box;padding-bottom: 0.4em;background-color: white;}#sk-container-id-1 div.sk-label label {font-family: monospace;font-weight: bold;display: inline-block;line-height: 1.2em;}#sk-container-id-1 div.sk-label-container {text-align: center;}#sk-container-id-1 div.sk-container {/* jupyter's `normalize.less` sets `[hidden] { display: none; }` but bootstrap.min.css set `[hidden] { display: none !important; }` so we also need the `!important` here to be able to override the default hidden behavior on the sphinx rendered scikit-learn.org. See: https://github.com/scikit-learn/scikit-learn/issues/21755 */display: inline-block !important;position: relative;}#sk-container-id-1 div.sk-text-repr-fallback {display: none;}</style><div id=\"sk-container-id-1\" class=\"sk-top-container\"><div class=\"sk-text-repr-fallback\"><pre>MLkNN(k=3)</pre><b>In a Jupyter environment, please rerun this cell to show the HTML representation or trust the notebook. <br />On GitHub, the HTML representation is unable to render, please try loading this page with nbviewer.org.</b></div><div class=\"sk-container\" hidden><div class=\"sk-item\"><div class=\"sk-estimator sk-toggleable\"><input class=\"sk-toggleable__control sk-hidden--visually\" id=\"sk-estimator-id-1\" type=\"checkbox\" checked><label for=\"sk-estimator-id-1\" class=\"sk-toggleable__label sk-toggleable__label-arrow\">MLkNN</label><div class=\"sk-toggleable__content\"><pre>MLkNN(k=3)</pre></div></div></div></div></div>"
      ],
      "text/plain": [
       "MLkNN(k=3)"
      ]
     },
     "execution_count": 5,
     "metadata": {},
     "output_type": "execute_result"
    }
   ],
   "source": [
    "model = MLkNN(k=3)\n",
    "model.fit(X, y)"
   ]
  },
  {
   "cell_type": "code",
   "execution_count": 6,
   "id": "8556eb77-d189-460b-ab4e-375c3f00296e",
   "metadata": {},
   "outputs": [
    {
     "data": {
      "text/plain": [
       "matrix([[False,  True, False,  True,  True],\n",
       "        [ True, False, False, False, False],\n",
       "        [ True,  True, False,  True,  True],\n",
       "        [ True, False, False, False,  True],\n",
       "        [ True, False, False, False, False],\n",
       "        [False,  True, False,  True,  True],\n",
       "        [ True,  True, False,  True, False],\n",
       "        [False, False, False,  True,  True],\n",
       "        [False,  True, False,  True,  True],\n",
       "        [ True,  True, False,  True,  True]])"
      ]
     },
     "execution_count": 6,
     "metadata": {},
     "output_type": "execute_result"
    }
   ],
   "source": [
    "model.predict(X).todense().astype(bool)"
   ]
  },
  {
   "cell_type": "code",
   "execution_count": 7,
   "id": "001cb61b-3a3a-4be9-843c-e6e2e1ca411b",
   "metadata": {},
   "outputs": [
    {
     "data": {
      "text/plain": [
       "matrix([[0.45901639, 0.66666667, 0.44      , 0.78609626, 0.83050847],\n",
       "        [0.89908257, 0.16666667, 0.44      , 0.44954128, 0.23444976],\n",
       "        [0.89908257, 0.75      , 0.1641791 , 0.78609626, 0.83050847],\n",
       "        [0.89908257, 0.16666667, 0.34375   , 0.44954128, 0.5505618 ],\n",
       "        [0.89908257, 0.16666667, 0.1641791 , 0.44954128, 0.23444976],\n",
       "        [0.45901639, 0.66666667, 0.44      , 0.78609626, 0.83050847],\n",
       "        [0.89908257, 0.66666667, 0.34375   , 0.78609626, 0.23444976],\n",
       "        [0.38888889, 0.16666667, 0.34375   , 0.78609626, 0.83050847],\n",
       "        [0.45901639, 0.66666667, 0.44      , 0.78609626, 0.83050847],\n",
       "        [0.89908257, 0.75      , 0.1641791 , 0.78609626, 0.83050847]])"
      ]
     },
     "execution_count": 7,
     "metadata": {},
     "output_type": "execute_result"
    }
   ],
   "source": [
    "model.predict_proba(X).todense()"
   ]
  },
  {
   "cell_type": "code",
   "execution_count": null,
   "id": "ef89a33c-2ac7-43d0-ae51-3879658be26a",
   "metadata": {},
   "outputs": [],
   "source": []
  }
 ],
 "metadata": {
  "kernelspec": {
   "display_name": "Python 3 (ipykernel)",
   "language": "python",
   "name": "python3"
  },
  "language_info": {
   "codemirror_mode": {
    "name": "ipython",
    "version": 3
   },
   "file_extension": ".py",
   "mimetype": "text/x-python",
   "name": "python",
   "nbconvert_exporter": "python",
   "pygments_lexer": "ipython3",
   "version": "3.9.17"
  }
 },
 "nbformat": 4,
 "nbformat_minor": 5
}
